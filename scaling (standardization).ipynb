{
 "cells": [
  {
   "cell_type": "code",
   "execution_count": 2,
   "id": "ea698da8",
   "metadata": {},
   "outputs": [
    {
     "name": "stdout",
     "output_type": "stream",
     "text": [
      "  Loan_ID  Gender Married Dependents     Education Self_Employed  \\\n",
      "0   LP001    Male     Yes          0      Graduate            No   \n",
      "1   LP002  Female      No          1  Not Graduate           NaN   \n",
      "2   LP003     NaN     Yes          2      Graduate           Yes   \n",
      "\n",
      "   ApplicantIncome  CoapplicantIncome  LoanAmount  Loan_Amount_Term  \\\n",
      "0           5849.0                0.0         NaN             360.0   \n",
      "1           4583.0             1508.0       128.0             360.0   \n",
      "2           3000.0                0.0        66.0               NaN   \n",
      "\n",
      "   Credit_History Property_Area Loan_Status  \n",
      "0             1.0         Urban           Y  \n",
      "1             0.0         Rural           N  \n",
      "2             1.0     Semiurban           Y  \n"
     ]
    }
   ],
   "source": [
    "import pandas as pd\n",
    "import seaborn as sns\n",
    "import matplotlib.pyplot as plt\n",
    "dataset = pd.read_csv(r\"C:\\Users\\Ahsan\\Downloads\\loan_data_with_missing_values.csv\")\n",
    "print(dataset.head(3))\n"
   ]
  },
  {
   "cell_type": "code",
   "execution_count": 3,
   "id": "6c0a2ac4",
   "metadata": {},
   "outputs": [
    {
     "data": {
      "text/plain": [
       "Loan_ID              0\n",
       "Gender               1\n",
       "Married              1\n",
       "Dependents           1\n",
       "Education            0\n",
       "Self_Employed        1\n",
       "ApplicantIncome      1\n",
       "CoapplicantIncome    1\n",
       "LoanAmount           1\n",
       "Loan_Amount_Term     1\n",
       "Credit_History       1\n",
       "Property_Area        1\n",
       "Loan_Status          0\n",
       "dtype: int64"
      ]
     },
     "execution_count": 3,
     "metadata": {},
     "output_type": "execute_result"
    }
   ],
   "source": [
    "dataset.isnull().sum()"
   ]
  },
  {
   "cell_type": "code",
   "execution_count": 13,
   "id": "54feeea4",
   "metadata": {},
   "outputs": [
    {
     "name": "stderr",
     "output_type": "stream",
     "text": [
      "C:\\Users\\Ahsan\\AppData\\Local\\Temp\\ipykernel_13836\\2571885999.py:1: FutureWarning: A value is trying to be set on a copy of a DataFrame or Series through chained assignment using an inplace method.\n",
      "The behavior will change in pandas 3.0. This inplace method will never work because the intermediate object on which we are setting values always behaves as a copy.\n",
      "\n",
      "For example, when doing 'df[col].method(value, inplace=True)', try using 'df.method({col: value}, inplace=True)' or df[col] = df[col].method(value) instead, to perform the operation inplace on the original object.\n",
      "\n",
      "\n",
      "  dataset['ApplicantIncome'].fillna(dataset['ApplicantIncome'].mean(), inplace=True)\n"
     ]
    }
   ],
   "source": [
    "dataset['ApplicantIncome'].fillna(dataset['ApplicantIncome'].mean(), inplace=True)"
   ]
  },
  {
   "cell_type": "code",
   "execution_count": 18,
   "id": "da32f9e4",
   "metadata": {},
   "outputs": [
    {
     "data": {
      "image/png": "[encoded data removed]",
      "text/plain": [
       "<Figure size 500x500 with 1 Axes>"
      ]
     },
     "metadata": {},
     "output_type": "display_data"
    }
   ],
   "source": [
    "sns.displot(dataset[\"ApplicantIncome\"])\n",
    "plt.show()"
   ]
  },
  {
   "cell_type": "code",
   "execution_count": 22,
   "id": "9915fff2",
   "metadata": {},
   "outputs": [
    {
     "data": {
      "text/html": [
       "<div>\n",
       "<style scoped>\n",
       "    .dataframe tbody tr th:only-of-type {\n",
       "        vertical-align: middle;\n",
       "    }\n",
       "\n",
       "    .dataframe tbody tr th {\n",
       "        vertical-align: top;\n",
       "    }\n",
       "\n",
       "    .dataframe thead th {\n",
       "        text-align: right;\n",
       "    }\n",
       "</style>\n",
       "<table border=\"1\" class=\"dataframe\">\n",
       "  <thead>\n",
       "    <tr style=\"text-align: right;\">\n",
       "      <th></th>\n",
       "      <th>ApplicantIncome</th>\n",
       "      <th>CoapplicantIncome</th>\n",
       "      <th>LoanAmount</th>\n",
       "      <th>Loan_Amount_Term</th>\n",
       "      <th>Credit_History</th>\n",
       "      <th>ApplicantIncome_scaled</th>\n",
       "    </tr>\n",
       "  </thead>\n",
       "  <tbody>\n",
       "    <tr>\n",
       "      <th>count</th>\n",
       "      <td>5.000000</td>\n",
       "      <td>4.000000</td>\n",
       "      <td>4.000000</td>\n",
       "      <td>4.0</td>\n",
       "      <td>4.00</td>\n",
       "      <td>5.000000e+00</td>\n",
       "    </tr>\n",
       "    <tr>\n",
       "      <th>mean</th>\n",
       "      <td>4858.000000</td>\n",
       "      <td>877.000000</td>\n",
       "      <td>113.750000</td>\n",
       "      <td>315.0</td>\n",
       "      <td>0.75</td>\n",
       "      <td>4.440892e-17</td>\n",
       "    </tr>\n",
       "    <tr>\n",
       "      <th>std</th>\n",
       "      <td>1205.615403</td>\n",
       "      <td>1032.399793</td>\n",
       "      <td>32.988634</td>\n",
       "      <td>90.0</td>\n",
       "      <td>0.50</td>\n",
       "      <td>1.118034e+00</td>\n",
       "    </tr>\n",
       "    <tr>\n",
       "      <th>min</th>\n",
       "      <td>3000.000000</td>\n",
       "      <td>0.000000</td>\n",
       "      <td>66.000000</td>\n",
       "      <td>180.0</td>\n",
       "      <td>0.00</td>\n",
       "      <td>-1.723026e+00</td>\n",
       "    </tr>\n",
       "    <tr>\n",
       "      <th>25%</th>\n",
       "      <td>4583.000000</td>\n",
       "      <td>0.000000</td>\n",
       "      <td>106.500000</td>\n",
       "      <td>315.0</td>\n",
       "      <td>0.75</td>\n",
       "      <td>-2.550227e-01</td>\n",
       "    </tr>\n",
       "    <tr>\n",
       "      <th>50%</th>\n",
       "      <td>4858.000000</td>\n",
       "      <td>754.000000</td>\n",
       "      <td>124.000000</td>\n",
       "      <td>360.0</td>\n",
       "      <td>1.00</td>\n",
       "      <td>0.000000e+00</td>\n",
       "    </tr>\n",
       "    <tr>\n",
       "      <th>75%</th>\n",
       "      <td>5849.000000</td>\n",
       "      <td>1631.000000</td>\n",
       "      <td>131.250000</td>\n",
       "      <td>360.0</td>\n",
       "      <td>1.00</td>\n",
       "      <td>9.190092e-01</td>\n",
       "    </tr>\n",
       "    <tr>\n",
       "      <th>max</th>\n",
       "      <td>6000.000000</td>\n",
       "      <td>2000.000000</td>\n",
       "      <td>141.000000</td>\n",
       "      <td>360.0</td>\n",
       "      <td>1.00</td>\n",
       "      <td>1.059040e+00</td>\n",
       "    </tr>\n",
       "  </tbody>\n",
       "</table>\n",
       "</div>"
      ],
      "text/plain": [
       "       ApplicantIncome  CoapplicantIncome  LoanAmount  Loan_Amount_Term  \\\n",
       "count         5.000000           4.000000    4.000000               4.0   \n",
       "mean       4858.000000         877.000000  113.750000             315.0   \n",
       "std        1205.615403        1032.399793   32.988634              90.0   \n",
       "min        3000.000000           0.000000   66.000000             180.0   \n",
       "25%        4583.000000           0.000000  106.500000             315.0   \n",
       "50%        4858.000000         754.000000  124.000000             360.0   \n",
       "75%        5849.000000        1631.000000  131.250000             360.0   \n",
       "max        6000.000000        2000.000000  141.000000             360.0   \n",
       "\n",
       "       Credit_History  ApplicantIncome_scaled  \n",
       "count            4.00            5.000000e+00  \n",
       "mean             0.75            4.440892e-17  \n",
       "std              0.50            1.118034e+00  \n",
       "min              0.00           -1.723026e+00  \n",
       "25%              0.75           -2.550227e-01  \n",
       "50%              1.00            0.000000e+00  \n",
       "75%              1.00            9.190092e-01  \n",
       "max              1.00            1.059040e+00  "
      ]
     },
     "execution_count": 22,
     "metadata": {},
     "output_type": "execute_result"
    }
   ],
   "source": [
    "dataset.describe()"
   ]
  },
  {
   "cell_type": "code",
   "execution_count": 25,
   "id": "c61b3e1a",
   "metadata": {},
   "outputs": [
    {
     "name": "stdout",
     "output_type": "stream",
     "text": [
      "   ApplicantIncome  ApplicantIncome_scaled\n",
      "0           5849.0                0.919009\n",
      "1           4583.0               -0.255023\n",
      "2           3000.0               -1.723026\n",
      "3           4858.0                0.000000\n",
      "4           6000.0                1.059040\n"
     ]
    }
   ],
   "source": [
    "from sklearn.preprocessing import StandardScaler\n",
    "\n",
    "ss = StandardScaler()\n",
    "dataset['ApplicantIncome_scaled'] = ss.fit_transform(dataset[['ApplicantIncome']])\n",
    "print(dataset[['ApplicantIncome', 'ApplicantIncome_scaled']].head())\n",
    "\n",
    "\n"
   ]
  },
  {
   "cell_type": "code",
   "execution_count": 39,
   "id": "f9449a8a",
   "metadata": {},
   "outputs": [
    {
     "name": "stdout",
     "output_type": "stream",
     "text": [
      "  Loan_ID  Gender Married Dependents     Education Self_Employed  \\\n",
      "0   LP001    Male     Yes          0      Graduate            No   \n",
      "1   LP002  Female      No          1  Not Graduate           NaN   \n",
      "2   LP003     NaN     Yes          2      Graduate           Yes   \n",
      "\n",
      "   ApplicantIncome  CoapplicantIncome  LoanAmount  Loan_Amount_Term  \\\n",
      "0           5849.0                0.0         NaN             360.0   \n",
      "1           4583.0             1508.0       128.0             360.0   \n",
      "2           3000.0                0.0        66.0               NaN   \n",
      "\n",
      "   Credit_History Property_Area Loan_Status  ApplicantIncome_scaled  \\\n",
      "0             1.0         Urban           Y                0.919009   \n",
      "1             0.0         Rural           N               -0.255023   \n",
      "2             1.0     Semiurban           Y               -1.723026   \n",
      "\n",
      "   ApplicantIncome_X  ApplicantIncome.ss  \n",
      "0           0.919009            0.919009  \n",
      "1          -0.255023           -0.255023  \n",
      "2          -1.723026           -1.723026  \n"
     ]
    }
   ],
   "source": [
    "from sklearn.preprocessing import StandardScaler\n",
    "import pandas as pd\n",
    "\n",
    "# Assuming you have already defined 'ss' and the dataset\n",
    "ss = StandardScaler()\n",
    "\n",
    "# Transform the data\n",
    "transformed_data = ss.fit_transform(dataset[['ApplicantIncome']])\n",
    "\n",
    "# Create a new DataFrame with transformed data and store it in the 'ApplicantIncome.ss' column\n",
    "dataset['ApplicantIncome.ss'] = pd.DataFrame(transformed_data)\n",
    "\n",
    "# Display the first 3 rows\n",
    "print(dataset.head(3))\n",
    "\n"
   ]
  },
  {
   "cell_type": "code",
   "execution_count": 40,
   "id": "0ba0909e",
   "metadata": {},
   "outputs": [
    {
     "data": {
      "text/html": [
       "<div>\n",
       "<style scoped>\n",
       "    .dataframe tbody tr th:only-of-type {\n",
       "        vertical-align: middle;\n",
       "    }\n",
       "\n",
       "    .dataframe tbody tr th {\n",
       "        vertical-align: top;\n",
       "    }\n",
       "\n",
       "    .dataframe thead th {\n",
       "        text-align: right;\n",
       "    }\n",
       "</style>\n",
       "<table border=\"1\" class=\"dataframe\">\n",
       "  <thead>\n",
       "    <tr style=\"text-align: right;\">\n",
       "      <th></th>\n",
       "      <th>ApplicantIncome</th>\n",
       "      <th>CoapplicantIncome</th>\n",
       "      <th>LoanAmount</th>\n",
       "      <th>Loan_Amount_Term</th>\n",
       "      <th>Credit_History</th>\n",
       "      <th>ApplicantIncome_scaled</th>\n",
       "      <th>ApplicantIncome_X</th>\n",
       "      <th>ApplicantIncome.ss</th>\n",
       "    </tr>\n",
       "  </thead>\n",
       "  <tbody>\n",
       "    <tr>\n",
       "      <th>count</th>\n",
       "      <td>5.000000</td>\n",
       "      <td>4.000000</td>\n",
       "      <td>4.000000</td>\n",
       "      <td>4.0</td>\n",
       "      <td>4.00</td>\n",
       "      <td>5.000000e+00</td>\n",
       "      <td>5.000000e+00</td>\n",
       "      <td>5.000000e+00</td>\n",
       "    </tr>\n",
       "    <tr>\n",
       "      <th>mean</th>\n",
       "      <td>4858.000000</td>\n",
       "      <td>877.000000</td>\n",
       "      <td>113.750000</td>\n",
       "      <td>315.0</td>\n",
       "      <td>0.75</td>\n",
       "      <td>4.440892e-17</td>\n",
       "      <td>4.440892e-17</td>\n",
       "      <td>4.440892e-17</td>\n",
       "    </tr>\n",
       "    <tr>\n",
       "      <th>std</th>\n",
       "      <td>1205.615403</td>\n",
       "      <td>1032.399793</td>\n",
       "      <td>32.988634</td>\n",
       "      <td>90.0</td>\n",
       "      <td>0.50</td>\n",
       "      <td>1.118034e+00</td>\n",
       "      <td>1.118034e+00</td>\n",
       "      <td>1.118034e+00</td>\n",
       "    </tr>\n",
       "    <tr>\n",
       "      <th>min</th>\n",
       "      <td>3000.000000</td>\n",
       "      <td>0.000000</td>\n",
       "      <td>66.000000</td>\n",
       "      <td>180.0</td>\n",
       "      <td>0.00</td>\n",
       "      <td>-1.723026e+00</td>\n",
       "      <td>-1.723026e+00</td>\n",
       "      <td>-1.723026e+00</td>\n",
       "    </tr>\n",
       "    <tr>\n",
       "      <th>25%</th>\n",
       "      <td>4583.000000</td>\n",
       "      <td>0.000000</td>\n",
       "      <td>106.500000</td>\n",
       "      <td>315.0</td>\n",
       "      <td>0.75</td>\n",
       "      <td>-2.550227e-01</td>\n",
       "      <td>-2.550227e-01</td>\n",
       "      <td>-2.550227e-01</td>\n",
       "    </tr>\n",
       "    <tr>\n",
       "      <th>50%</th>\n",
       "      <td>4858.000000</td>\n",
       "      <td>754.000000</td>\n",
       "      <td>124.000000</td>\n",
       "      <td>360.0</td>\n",
       "      <td>1.00</td>\n",
       "      <td>0.000000e+00</td>\n",
       "      <td>0.000000e+00</td>\n",
       "      <td>0.000000e+00</td>\n",
       "    </tr>\n",
       "    <tr>\n",
       "      <th>75%</th>\n",
       "      <td>5849.000000</td>\n",
       "      <td>1631.000000</td>\n",
       "      <td>131.250000</td>\n",
       "      <td>360.0</td>\n",
       "      <td>1.00</td>\n",
       "      <td>9.190092e-01</td>\n",
       "      <td>9.190092e-01</td>\n",
       "      <td>9.190092e-01</td>\n",
       "    </tr>\n",
       "    <tr>\n",
       "      <th>max</th>\n",
       "      <td>6000.000000</td>\n",
       "      <td>2000.000000</td>\n",
       "      <td>141.000000</td>\n",
       "      <td>360.0</td>\n",
       "      <td>1.00</td>\n",
       "      <td>1.059040e+00</td>\n",
       "      <td>1.059040e+00</td>\n",
       "      <td>1.059040e+00</td>\n",
       "    </tr>\n",
       "  </tbody>\n",
       "</table>\n",
       "</div>"
      ],
      "text/plain": [
       "       ApplicantIncome  CoapplicantIncome  LoanAmount  Loan_Amount_Term  \\\n",
       "count         5.000000           4.000000    4.000000               4.0   \n",
       "mean       4858.000000         877.000000  113.750000             315.0   \n",
       "std        1205.615403        1032.399793   32.988634              90.0   \n",
       "min        3000.000000           0.000000   66.000000             180.0   \n",
       "25%        4583.000000           0.000000  106.500000             315.0   \n",
       "50%        4858.000000         754.000000  124.000000             360.0   \n",
       "75%        5849.000000        1631.000000  131.250000             360.0   \n",
       "max        6000.000000        2000.000000  141.000000             360.0   \n",
       "\n",
       "       Credit_History  ApplicantIncome_scaled  ApplicantIncome_X  \\\n",
       "count            4.00            5.000000e+00       5.000000e+00   \n",
       "mean             0.75            4.440892e-17       4.440892e-17   \n",
       "std              0.50            1.118034e+00       1.118034e+00   \n",
       "min              0.00           -1.723026e+00      -1.723026e+00   \n",
       "25%              0.75           -2.550227e-01      -2.550227e-01   \n",
       "50%              1.00            0.000000e+00       0.000000e+00   \n",
       "75%              1.00            9.190092e-01       9.190092e-01   \n",
       "max              1.00            1.059040e+00       1.059040e+00   \n",
       "\n",
       "       ApplicantIncome.ss  \n",
       "count        5.000000e+00  \n",
       "mean         4.440892e-17  \n",
       "std          1.118034e+00  \n",
       "min         -1.723026e+00  \n",
       "25%         -2.550227e-01  \n",
       "50%          0.000000e+00  \n",
       "75%          9.190092e-01  \n",
       "max          1.059040e+00  "
      ]
     },
     "execution_count": 40,
     "metadata": {},
     "output_type": "execute_result"
    }
   ],
   "source": [
    "dataset.describe()"
   ]
  },
  {
   "cell_type": "code",
   "execution_count": null,
   "id": "cedaf791",
   "metadata": {},
   "outputs": [],
   "source": [
    "\n",
    "\n"
   ]
  }
 ],
 "metadata": {
  "kernelspec": {
   "display_name": "Python 3",
   "language": "python",
   "name": "python3"
  },
  "language_info": {
   "codemirror_mode": {
    "name": "ipython",
    "version": 3
   },
   "file_extension": ".py",
   "mimetype": "text/x-python",
   "name": "python",
   "nbconvert_exporter": "python",
   "pygments_lexer": "ipython3",
   "version": "3.13.3"
  }
 },
 "nbformat": 4,
 "nbformat_minor": 5
}
